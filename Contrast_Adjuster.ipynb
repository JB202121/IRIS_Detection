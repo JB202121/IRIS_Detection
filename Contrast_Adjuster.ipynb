{
 "cells": [
  {
   "cell_type": "code",
   "execution_count": null,
   "metadata": {},
   "outputs": [],
   "source": [
    "def Contrast_Adjust(image):\n",
    "    S=len(image)\n",
    "    Su=len(image[0])\n",
    "    Sum=np.sum(image)\n",
    "    Sum=Sum/(S*Su)\n",
    "    if Sum>=175:\n",
    "        image=-image\n",
    "        image=exposure.equalize_hist(image)\n",
    "        image=-image\n",
    "    return image"
   ]
  }
 ],
 "metadata": {
  "kernelspec": {
   "display_name": "Python 3",
   "language": "python",
   "name": "python3"
  },
  "language_info": {
   "codemirror_mode": {
    "name": "ipython",
    "version": 3
   },
   "file_extension": ".py",
   "mimetype": "text/x-python",
   "name": "python",
   "nbconvert_exporter": "python",
   "pygments_lexer": "ipython3",
   "version": "3.7.4"
  }
 },
 "nbformat": 4,
 "nbformat_minor": 2
}
