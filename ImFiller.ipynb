{
 "cells": [
  {
   "cell_type": "code",
   "execution_count": 1,
   "metadata": {},
   "outputs": [],
   "source": [
    "import numpy as np\n",
    "from skimage.morphology import reconstruction\n",
    "import matplotlib.pyplot as plt\n",
    "from skimage.io import imread, imsave\n",
    "from skimage.morphology import disk\n",
    "from skimage.morphology import erosion, dilation, opening, closing, skeletonize, convex_hull, convex_hull_image\n",
    "from skimage import exposure\n",
    "\n",
    "def ImFiller(AA,image):\n",
    "    Baslangic_Cap=int(round(0.1*AA[2]))\n",
    "    Bitis_Cap=int(round(0.4*AA[2]))+1\n",
    "    S_start=int(round(AA[0])-Bitis_Cap)\n",
    "    S_stop=int(round(AA[0]+Bitis_Cap))\n",
    "    Su_start=int(round(AA[1])-Bitis_Cap)\n",
    "    Su_stop=int(round(AA[1]+Bitis_Cap))\n",
    "    Sum=np.sum(image[S_start:S_stop,Su_start:Su_stop])\n",
    "    Sum=Sum/((S_stop-S_start)*(Su_stop-Su_start))\n",
    "    for i in range(S_start,S_stop):\n",
    "        for j in range(Su_start,Su_stop):\n",
    "            if image[i,j]>180:\n",
    "                image[i,j]=Sum\n",
    "    return image"
   ]
  },
  {
   "cell_type": "code",
   "execution_count": null,
   "metadata": {},
   "outputs": [],
   "source": []
  }
 ],
 "metadata": {
  "kernelspec": {
   "display_name": "Python 3",
   "language": "python",
   "name": "python3"
  },
  "language_info": {
   "codemirror_mode": {
    "name": "ipython",
    "version": 3
   },
   "file_extension": ".py",
   "mimetype": "text/x-python",
   "name": "python",
   "nbconvert_exporter": "python",
   "pygments_lexer": "ipython3",
   "version": "3.7.4"
  }
 },
 "nbformat": 4,
 "nbformat_minor": 2
}
