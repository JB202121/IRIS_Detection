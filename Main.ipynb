{
 "cells": [
  {
   "cell_type": "code",
   "execution_count": 4,
   "metadata": {},
   "outputs": [
    {
     "ename": "KeyboardInterrupt",
     "evalue": "",
     "output_type": "error",
     "traceback": [
      "\u001b[1;31m---------------------------------------------------------------------------\u001b[0m",
      "\u001b[1;31mKeyboardInterrupt\u001b[0m                         Traceback (most recent call last)",
      "\u001b[1;32m<ipython-input-4-0127249c2a88>\u001b[0m in \u001b[0;36m<module>\u001b[1;34m\u001b[0m\n\u001b[0;32m     36\u001b[0m     \u001b[0mimage\u001b[0m\u001b[1;33m=\u001b[0m\u001b[0mContrast_Adjust\u001b[0m\u001b[1;33m(\u001b[0m\u001b[0mimage\u001b[0m\u001b[1;33m)\u001b[0m\u001b[1;33m\u001b[0m\u001b[1;33m\u001b[0m\u001b[0m\n\u001b[0;32m     37\u001b[0m     \u001b[0mSmth\u001b[0m\u001b[1;33m=\u001b[0m\u001b[0mSmooth\u001b[0m\u001b[1;33m(\u001b[0m\u001b[0mSigma\u001b[0m\u001b[1;33m,\u001b[0m\u001b[0mimage\u001b[0m\u001b[1;33m)\u001b[0m  \u001b[1;31m#Smoothing\u001b[0m\u001b[1;33m\u001b[0m\u001b[1;33m\u001b[0m\u001b[0m\n\u001b[1;32m---> 38\u001b[1;33m     \u001b[0mIntegrated\u001b[0m\u001b[1;33m,\u001b[0m\u001b[0mModed\u001b[0m\u001b[1;33m=\u001b[0m\u001b[0mIntegral\u001b[0m\u001b[1;33m(\u001b[0m\u001b[0mSmth\u001b[0m\u001b[1;33m)\u001b[0m \u001b[1;31m#Out Boundary Integral\u001b[0m\u001b[1;33m\u001b[0m\u001b[1;33m\u001b[0m\u001b[0m\n\u001b[0m\u001b[0;32m     39\u001b[0m     \u001b[0mIndexed\u001b[0m\u001b[1;33m,\u001b[0m\u001b[0mIntegral_Holder_Last\u001b[0m\u001b[1;33m=\u001b[0m\u001b[0mDifferential_Op\u001b[0m\u001b[1;33m(\u001b[0m\u001b[0mIntegrated\u001b[0m\u001b[1;33m,\u001b[0m\u001b[0mModed\u001b[0m\u001b[1;33m)\u001b[0m \u001b[1;31m#Differantial\u001b[0m\u001b[1;33m\u001b[0m\u001b[1;33m\u001b[0m\u001b[0m\n\u001b[0;32m     40\u001b[0m     \u001b[0mA\u001b[0m\u001b[1;33m=\u001b[0m\u001b[0mIndexed\u001b[0m\u001b[1;33m[\u001b[0m\u001b[1;36m0\u001b[0m\u001b[1;33m]\u001b[0m\u001b[1;33m\u001b[0m\u001b[1;33m\u001b[0m\u001b[0m\n",
      "\u001b[1;32m<ipython-input-4-c8a9fb7e4150>\u001b[0m in \u001b[0;36mIntegral\u001b[1;34m(image)\u001b[0m\n\u001b[0;32m     33\u001b[0m                     \u001b[0ms\u001b[0m\u001b[1;33m=\u001b[0m\u001b[0mround\u001b[0m\u001b[1;33m(\u001b[0m\u001b[0mi\u001b[0m\u001b[1;33m+\u001b[0m\u001b[0mr\u001b[0m\u001b[1;33m*\u001b[0m\u001b[0mnp\u001b[0m\u001b[1;33m.\u001b[0m\u001b[0msin\u001b[0m\u001b[1;33m(\u001b[0m\u001b[0mteta\u001b[0m\u001b[1;33m*\u001b[0m\u001b[0mnp\u001b[0m\u001b[1;33m.\u001b[0m\u001b[0mpi\u001b[0m\u001b[1;33m/\u001b[0m\u001b[1;36m180\u001b[0m\u001b[1;33m)\u001b[0m\u001b[1;33m)\u001b[0m\u001b[1;33m\u001b[0m\u001b[1;33m\u001b[0m\u001b[0m\n\u001b[0;32m     34\u001b[0m                     \u001b[0msu\u001b[0m\u001b[1;33m=\u001b[0m\u001b[0mround\u001b[0m\u001b[1;33m(\u001b[0m\u001b[0mj\u001b[0m\u001b[1;33m+\u001b[0m\u001b[0mr\u001b[0m\u001b[1;33m*\u001b[0m\u001b[0mnp\u001b[0m\u001b[1;33m.\u001b[0m\u001b[0mcos\u001b[0m\u001b[1;33m(\u001b[0m\u001b[0mteta\u001b[0m\u001b[1;33m*\u001b[0m\u001b[0mnp\u001b[0m\u001b[1;33m.\u001b[0m\u001b[0mpi\u001b[0m\u001b[1;33m/\u001b[0m\u001b[1;36m180\u001b[0m\u001b[1;33m)\u001b[0m\u001b[1;33m)\u001b[0m\u001b[1;33m\u001b[0m\u001b[1;33m\u001b[0m\u001b[0m\n\u001b[1;32m---> 35\u001b[1;33m                     \u001b[1;32mif\u001b[0m \u001b[0ms\u001b[0m\u001b[1;33m<=\u001b[0m\u001b[1;36m0\u001b[0m\u001b[1;33m:\u001b[0m\u001b[1;33m\u001b[0m\u001b[1;33m\u001b[0m\u001b[0m\n\u001b[0m\u001b[0;32m     36\u001b[0m                         \u001b[0ms\u001b[0m\u001b[1;33m=\u001b[0m\u001b[1;36m1\u001b[0m\u001b[1;33m\u001b[0m\u001b[1;33m\u001b[0m\u001b[0m\n\u001b[0;32m     37\u001b[0m                     \u001b[1;32melif\u001b[0m \u001b[0ms\u001b[0m\u001b[1;33m>=\u001b[0m\u001b[0mRow\u001b[0m\u001b[1;33m:\u001b[0m\u001b[1;33m\u001b[0m\u001b[1;33m\u001b[0m\u001b[0m\n",
      "\u001b[1;31mKeyboardInterrupt\u001b[0m: "
     ]
    }
   ],
   "source": [
    "from skimage import data, exposure, img_as_float\n",
    "import numpy as np\n",
    "from skimage import io\n",
    "import matplotlib.pyplot as plt\n",
    "import math\n",
    "import os\n",
    "import timeit\n",
    "import pandas as pd\n",
    "import glob\n",
    "from random import randint\n",
    "\n",
    "%run Contrast_Adjuster.ipynb\n",
    "%run Take_Integral.ipynb\n",
    "%run Smoothing.ipynb \n",
    "%run ImFiller.ipynb \n",
    "%run Differential_Take.ipynb \n",
    "%run Inner_Integral.ipynb\n",
    "%run Draw_Circle.ipynb\n",
    "\n",
    "final_path=\"C:\\\\Users\\\\Necmettin\\\\Desktop\\\\computer_vision\\\\Ödev_2\\\\Sonuclar_2\"\n",
    "path=\"C:\\\\Users\\\\Necmettin\\\\Desktop\\\\computer_vision\\\\ubiris3\\\\UBIRIS_200_150_R\\\\Sessao_1\"\n",
    "folders = []\n",
    "# r=root, d=directories, f = files\n",
    "for r,d,f in os.walk(path):\n",
    "    for t in d:\n",
    "        folders.append(os.path.join(r,t))\n",
    "i=0\n",
    "for g in folders:\n",
    "    #path=\"C:\\\\Users\\\\Necmettin\\\\Desktop\\\\computer_vision\\\\ubiris3\\\\UBIRIS_200_150_R\\\\Sessao_1\\\\1\"\n",
    "    mylist = [f for f in glob.glob(g+\"/*.jpg\", recursive=True)]\n",
    "    value = randint(0, 4)\n",
    "    resim=mylist[value]\n",
    "                    #Here We Go\n",
    "    Sigma=6\n",
    "    image=io.imread(resim)\n",
    "    image=Contrast_Adjust(image)# Burası kaldırıldığında çap konusunda daha keskin sonuçlar alınabilir. Fakat parlak görüntülerde sonuç alınmaz\n",
    "    Smth=Smooth(Sigma,image)  #Smoothing\n",
    "    Integrated,Moded=Integral(Smth) #Out Boundary Integral\n",
    "    Indexed,Integral_Holder_Last=Differential_Op(Integrated,Moded) #Differantial\n",
    "    A=Indexed[0]\n",
    "    AA=Integral_Holder_Last[A[0],:]\n",
    "    image=io.imread(resim)\n",
    "    Filled=ImFiller(AA,image)\n",
    "    Filled=Smooth(Sigma,Filled)\n",
    "    Inner_Integrated,Inner_Moded=Inner_Integral(AA,Filled)\n",
    "    Inner_Indexed,Inner_Integral_Holder_Last=Differential_Op(Inner_Integrated,Inner_Moded)\n",
    "    B=Inner_Indexed[0]                              \n",
    "    BB=Inner_Integral_Holder_Last[B[0],:]\n",
    "    imagee=io.imread(resim)\n",
    "    Sonuc=Draw_Circle(int(AA[0]),int(AA[1]),int(AA[2]),imagee)\n",
    "    Sonuc=Draw_Circle(int(BB[0]),int(BB[1]),int(BB[2]),imagee)\n",
    "    yer=str(value)\n",
    "    i=i+1\n",
    "    sayi=str(i)\n",
    "    isim='\\\\'+sayi+'.jpg'\n",
    "    path=final_path+isim\n",
    "    plt.imsave(path,Sonuc,cmap='gray')\n",
    "\n",
    "\n"
   ]
  },
  {
   "cell_type": "code",
   "execution_count": null,
   "metadata": {},
   "outputs": [],
   "source": []
  },
  {
   "cell_type": "code",
   "execution_count": null,
   "metadata": {},
   "outputs": [],
   "source": []
  },
  {
   "cell_type": "code",
   "execution_count": null,
   "metadata": {},
   "outputs": [],
   "source": []
  }
 ],
 "metadata": {
  "kernelspec": {
   "display_name": "Python 3",
   "language": "python",
   "name": "python3"
  },
  "language_info": {
   "codemirror_mode": {
    "name": "ipython",
    "version": 3
   },
   "file_extension": ".py",
   "mimetype": "text/x-python",
   "name": "python",
   "nbconvert_exporter": "python",
   "pygments_lexer": "ipython3",
   "version": "3.7.4"
  }
 },
 "nbformat": 4,
 "nbformat_minor": 2
}
