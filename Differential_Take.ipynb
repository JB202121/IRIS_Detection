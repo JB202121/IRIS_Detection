{
 "cells": [
  {
   "cell_type": "code",
   "execution_count": 3,
   "metadata": {},
   "outputs": [],
   "source": [
    "def Differential_Op(Integral_Holder,Moded):\n",
    "    Differantial_Holder=np.zeros((len(Integral_Holder),5))\n",
    "    for i in range(1,len(Integral_Holder)):\n",
    "        if i%Moded!=0:\n",
    "            Integral_Holder[i,4]=(Integral_Holder[i,3]-Integral_Holder[i-1,3])/Integral_Holder[i-1,3]\n",
    "    Max=np.max(abs(Integral_Holder[:,4]))\n",
    "    Indexes=np.where(abs(Integral_Holder[:,4])==Max)\n",
    "    return Indexes,Integral_Holder    "
   ]
  },
  {
   "cell_type": "code",
   "execution_count": null,
   "metadata": {},
   "outputs": [],
   "source": []
  }
 ],
 "metadata": {
  "kernelspec": {
   "display_name": "Python 3",
   "language": "python",
   "name": "python3"
  },
  "language_info": {
   "codemirror_mode": {
    "name": "ipython",
    "version": 3
   },
   "file_extension": ".py",
   "mimetype": "text/x-python",
   "name": "python",
   "nbconvert_exporter": "python",
   "pygments_lexer": "ipython3",
   "version": "3.7.4"
  }
 },
 "nbformat": 4,
 "nbformat_minor": 2
}
