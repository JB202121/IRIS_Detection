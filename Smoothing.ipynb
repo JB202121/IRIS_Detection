{
 "cells": [
  {
   "cell_type": "code",
   "execution_count": 7,
   "metadata": {},
   "outputs": [],
   "source": [
    "import numpy as np\n",
    "import scipy.ndimage as ndi\n",
    "\n",
    "def Smooth(Sigma,İmage):\n",
    "    x=np.arange(-3,3,0.1)\n",
    "    y=np.arange(-3,3,0.1)\n",
    "    X,Y=np.meshgrid(x,y)\n",
    "    k=((X*X+Y*Y-2*Sigma*Sigma)/Sigma**4)*np.exp(-((X**2+Y**2)/2*Sigma*Sigma))\n",
    "    k[:,:]=k[:,:]/k.sum()\n",
    "    İmage_Smooth=ndi.convolve(image,k)\n",
    "    return İmage_Smooth"
   ]
  },
  {
   "cell_type": "code",
   "execution_count": null,
   "metadata": {},
   "outputs": [],
   "source": []
  }
 ],
 "metadata": {
  "kernelspec": {
   "display_name": "Python 3",
   "language": "python",
   "name": "python3"
  },
  "language_info": {
   "codemirror_mode": {
    "name": "ipython",
    "version": 3
   },
   "file_extension": ".py",
   "mimetype": "text/x-python",
   "name": "python",
   "nbconvert_exporter": "python",
   "pygments_lexer": "ipython3",
   "version": "3.7.4"
  }
 },
 "nbformat": 4,
 "nbformat_minor": 2
}
