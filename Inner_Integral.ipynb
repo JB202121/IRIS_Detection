{
 "cells": [
  {
   "cell_type": "code",
   "execution_count": 2,
   "metadata": {},
   "outputs": [],
   "source": [
    "def Inner_Integral(AA,image):\n",
    "    Row=len(image)\n",
    "    Column=len(image[0])\n",
    "    Baslangic_Cap=int(round(0.1*AA[2]))\n",
    "    Bitis_Cap=int(round(0.8*AA[2]))+1\n",
    "    S_start=int(round(AA[0]-Baslangic_Cap))\n",
    "    S_stop=int(round(AA[0]+Baslangic_Cap))\n",
    "    Su_start=int(round(AA[1]-Baslangic_Cap))\n",
    "    Su_stop=int(round(AA[1]+Baslangic_Cap))\n",
    "    Adim=1\n",
    "    Mod=Bitis_Cap-Baslangic_Cap\n",
    "    R=np.arange(Baslangic_Cap,Bitis_Cap,Adim)\n",
    "    Array_Size=(S_stop-S_start)*(Su_stop-Su_start)*(len(R))\n",
    "    Aci_Adim=3\n",
    "    Inner_Integral_Holder=np.zeros((Array_Size,5))\n",
    "    sayac=0\n",
    "    for i in range(S_start,S_stop):\n",
    "        for j in range(Su_start,Su_stop):\n",
    "            for r in R:\n",
    "                Sum=0\n",
    "                for teta in range(-45,46,Aci_Adim):\n",
    "                    s=round(i+r*np.sin(teta*np.pi/180))\n",
    "                    su=round(j+r*np.cos(teta*np.pi/180))\n",
    "                    if s<=0:\n",
    "                        s=1\n",
    "                    elif s>=Row:\n",
    "                        s=Row-1\n",
    "                    if su<=0:\n",
    "                        su=1\n",
    "                    elif su>=Column:\n",
    "                        su=Column-1\n",
    "                    Sum=Sum+image[int(s),int(su)]\n",
    "                for teta in range(135,226,Aci_Adim):\n",
    "                    s=round(i+r*np.sin(teta*np.pi/180))\n",
    "                    su=round(j+r*np.cos(teta*np.pi/180))\n",
    "                    if s<=0:\n",
    "                        s=1\n",
    "                    elif s>=Row:\n",
    "                        s=Row-1\n",
    "                    if su<=0:\n",
    "                        su=1\n",
    "                    elif su>=Column:\n",
    "                        su=Column-1\n",
    "                    Sum=Sum+image[int(s),int(su)]\n",
    "                Inner_Integral_Holder[sayac,0:4]=[i,j,r,Sum]\n",
    "                sayac=sayac+1\n",
    "    return Inner_Integral_Holder,Mod\n"
   ]
  },
  {
   "cell_type": "code",
   "execution_count": null,
   "metadata": {},
   "outputs": [],
   "source": []
  }
 ],
 "metadata": {
  "kernelspec": {
   "display_name": "Python 3",
   "language": "python",
   "name": "python3"
  },
  "language_info": {
   "codemirror_mode": {
    "name": "ipython",
    "version": 3
   },
   "file_extension": ".py",
   "mimetype": "text/x-python",
   "name": "python",
   "nbconvert_exporter": "python",
   "pygments_lexer": "ipython3",
   "version": "3.7.4"
  }
 },
 "nbformat": 4,
 "nbformat_minor": 2
}
